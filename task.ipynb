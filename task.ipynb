{
 "cells": [
  {
   "cell_type": "code",
   "execution_count": 1,
   "id": "2d296859-4d80-4e35-a155-6e2fa7fa0d2a",
   "metadata": {},
   "outputs": [
    {
     "name": "stdout",
     "output_type": "stream",
     "text": [
      "\u001b[33mDEPRECATION: Configuring installation scheme with distutils config files is deprecated and will no longer work in the near future. If you are using a Homebrew or Linuxbrew Python, please see discussion at https://github.com/Homebrew/homebrew-core/issues/76621\u001b[0m\u001b[33m\n",
      "\u001b[0mRequirement already satisfied: pip in /usr/local/lib/python3.9/site-packages (23.3.2)\n",
      "\u001b[33mDEPRECATION: Configuring installation scheme with distutils config files is deprecated and will no longer work in the near future. If you are using a Homebrew or Linuxbrew Python, please see discussion at https://github.com/Homebrew/homebrew-core/issues/76621\u001b[0m\u001b[33m\n",
      "\u001b[0mNote: you may need to restart the kernel to use updated packages.\n"
     ]
    }
   ],
   "source": [
    "pip install --upgrade pip"
   ]
  },
  {
   "cell_type": "code",
   "execution_count": 2,
   "id": "262a095b-b0eb-4c66-af90-a11644d7d232",
   "metadata": {},
   "outputs": [
    {
     "name": "stdout",
     "output_type": "stream",
     "text": [
      "\u001b[33mDEPRECATION: Configuring installation scheme with distutils config files is deprecated and will no longer work in the near future. If you are using a Homebrew or Linuxbrew Python, please see discussion at https://github.com/Homebrew/homebrew-core/issues/76621\u001b[0m\u001b[33m\n",
      "\u001b[0mRequirement already satisfied: pandas in /usr/local/lib/python3.9/site-packages (2.1.4)\n",
      "Requirement already satisfied: numpy<2,>=1.22.4 in /usr/local/lib/python3.9/site-packages (from pandas) (1.26.3)\n",
      "Requirement already satisfied: python-dateutil>=2.8.2 in /usr/local/lib/python3.9/site-packages (from pandas) (2.8.2)\n",
      "Requirement already satisfied: pytz>=2020.1 in /usr/local/lib/python3.9/site-packages (from pandas) (2023.3.post1)\n",
      "Requirement already satisfied: tzdata>=2022.1 in /usr/local/lib/python3.9/site-packages (from pandas) (2023.3)\n",
      "Requirement already satisfied: six>=1.5 in /usr/local/lib/python3.9/site-packages (from python-dateutil>=2.8.2->pandas) (1.16.0)\n",
      "\u001b[33mDEPRECATION: Configuring installation scheme with distutils config files is deprecated and will no longer work in the near future. If you are using a Homebrew or Linuxbrew Python, please see discussion at https://github.com/Homebrew/homebrew-core/issues/76621\u001b[0m\u001b[33m\n",
      "\u001b[0mNote: you may need to restart the kernel to use updated packages.\n"
     ]
    }
   ],
   "source": [
    "pip install pandas"
   ]
  },
  {
   "cell_type": "code",
   "execution_count": 1,
   "id": "76d799a5-076b-482a-ab5a-ba37060382c5",
   "metadata": {},
   "outputs": [],
   "source": [
    "import pandas as pd\n",
    "import numpy as np\n",
    "from datetime import datetime, timedelta, timezone\n",
    "from sklearn.preprocessing import LabelEncoder, LabelBinarizer\n",
    "from sklearn.metrics import r2_score, mean_squared_error"
   ]
  },
  {
   "cell_type": "code",
   "execution_count": 6,
   "id": "08e58db9-a4c7-4082-a176-651428cc2831",
   "metadata": {},
   "outputs": [],
   "source": [
    "origin_train = pd.read_csv('X_train.csv')\n",
    "origin_train['published_at'] = pd.to_datetime(origin_train['published_at'])\n",
    "origin_train['created_at'] = pd.to_datetime(origin_train['created_at'])\n",
    "\n",
    "train_target = pd.read_csv('y_train.csv')\n",
    "origin_train = origin_train.set_index('id').join(train_target.set_index('id'))"
   ]
  },
  {
   "cell_type": "code",
   "execution_count": 7,
   "id": "b215917f-774e-412c-bd03-2cb35f86e0d4",
   "metadata": {},
   "outputs": [
    {
     "data": {
      "text/plain": [
       "0"
      ]
     },
     "execution_count": 7,
     "metadata": {},
     "output_type": "execute_result"
    }
   ],
   "source": [
    "origin_train['area_name'].isnull().sum()"
   ]
  },
  {
   "cell_type": "code",
   "execution_count": 8,
   "id": "6025f90e-cd5c-4b3b-874e-6fd3ab93f542",
   "metadata": {},
   "outputs": [
    {
     "data": {
      "text/plain": [
       "1"
      ]
     },
     "execution_count": 8,
     "metadata": {},
     "output_type": "execute_result"
    }
   ],
   "source": [
    "origin_train['description'].isnull().sum()"
   ]
  },
  {
   "cell_type": "code",
   "execution_count": 9,
   "id": "d8d999b4-786f-4aa2-81ed-a50d6733eb85",
   "metadata": {},
   "outputs": [
    {
     "data": {
      "text/plain": [
       "4032"
      ]
     },
     "execution_count": 9,
     "metadata": {},
     "output_type": "execute_result"
    }
   ],
   "source": [
    "origin_train['salary_from'].isnull().sum()"
   ]
  },
  {
   "cell_type": "code",
   "execution_count": 10,
   "id": "f056e18e-3375-4d85-9f48-203c758c6641",
   "metadata": {},
   "outputs": [
    {
     "data": {
      "text/plain": [
       "148"
      ]
     },
     "execution_count": 10,
     "metadata": {},
     "output_type": "execute_result"
    }
   ],
   "source": [
    "origin_train['salary_gross'].isnull().sum()"
   ]
  },
  {
   "cell_type": "code",
   "execution_count": 11,
   "id": "00579b46-3313-4246-a349-f00a4c41eb3d",
   "metadata": {},
   "outputs": [
    {
     "data": {
      "text/plain": [
       "0"
      ]
     },
     "execution_count": 11,
     "metadata": {},
     "output_type": "execute_result"
    }
   ],
   "source": [
    "origin_train['employer_name'].isnull().sum()"
   ]
  },
  {
   "cell_type": "code",
   "execution_count": 12,
   "id": "6ef284ca-0203-41e4-924e-22f55089c98f",
   "metadata": {},
   "outputs": [],
   "source": [
    "def smape(A, F):\n",
    "    return 100/len(A) * np.sum(2 * np.abs(F - A) / (np.abs(A) + np.abs(F)))"
   ]
  },
  {
   "cell_type": "code",
   "execution_count": 13,
   "id": "efd68e4e-e758-4a8b-a75c-db324811f2d1",
   "metadata": {},
   "outputs": [],
   "source": [
    "def process_df(df: pd.DataFrame) -> pd.DataFrame:\n",
    "    \n",
    "    df = df.drop(columns=['created_at', 'salary_currency', 'area_id'])\n",
    "    \n",
    "    df['salary_from'].fillna(df.salary_from.mean(), inplace = True)\n",
    "\n",
    "    df['salary_gross'].fillna('False', inplace = True) \n",
    "    df['salary_gross'] = df['salary_gross'].astype(bool)\n",
    "    \n",
    "    df['published_at'] = df['published_at'].apply(lambda x: x.replace(tzinfo=timezone.utc))    \n",
    "    reference_date = datetime(2023, 1, 1, tzinfo=timezone.utc)\n",
    "    df['published_at'] = df['published_at'].apply(lambda x: (reference_date - x).total_seconds())\n",
    "\n",
    "    \n",
    "    return df"
   ]
  },
  {
   "cell_type": "code",
   "execution_count": 12,
   "id": "d1fc41fe-d1b0-429b-bfad-e8dd165280fa",
   "metadata": {},
   "outputs": [
    {
     "name": "stdout",
     "output_type": "stream",
     "text": [
      "\u001b[33mDEPRECATION: Configuring installation scheme with distutils config files is deprecated and will no longer work in the near future. If you are using a Homebrew or Linuxbrew Python, please see discussion at https://github.com/Homebrew/homebrew-core/issues/76621\u001b[0m\u001b[33m\n",
      "\u001b[0mRequirement already satisfied: fuzzywuzzy in /usr/local/lib/python3.9/site-packages (0.18.0)\n",
      "\u001b[33mDEPRECATION: Configuring installation scheme with distutils config files is deprecated and will no longer work in the near future. If you are using a Homebrew or Linuxbrew Python, please see discussion at https://github.com/Homebrew/homebrew-core/issues/76621\u001b[0m\u001b[33m\n",
      "\u001b[0mNote: you may need to restart the kernel to use updated packages.\n"
     ]
    }
   ],
   "source": [
    "pip install fuzzywuzzy"
   ]
  },
  {
   "cell_type": "code",
   "execution_count": 13,
   "id": "0442ca50-440c-4b8b-9a25-32394302c472",
   "metadata": {},
   "outputs": [
    {
     "name": "stdout",
     "output_type": "stream",
     "text": [
      "\u001b[33mDEPRECATION: Configuring installation scheme with distutils config files is deprecated and will no longer work in the near future. If you are using a Homebrew or Linuxbrew Python, please see discussion at https://github.com/Homebrew/homebrew-core/issues/76621\u001b[0m\u001b[33m\n",
      "\u001b[0mRequirement already satisfied: python-Levenshtein in /usr/local/lib/python3.9/site-packages (0.23.0)\n",
      "Requirement already satisfied: Levenshtein==0.23.0 in /usr/local/lib/python3.9/site-packages (from python-Levenshtein) (0.23.0)\n",
      "Requirement already satisfied: rapidfuzz<4.0.0,>=3.1.0 in /usr/local/lib/python3.9/site-packages (from Levenshtein==0.23.0->python-Levenshtein) (3.6.1)\n",
      "\u001b[33mDEPRECATION: Configuring installation scheme with distutils config files is deprecated and will no longer work in the near future. If you are using a Homebrew or Linuxbrew Python, please see discussion at https://github.com/Homebrew/homebrew-core/issues/76621\u001b[0m\u001b[33m\n",
      "\u001b[0mNote: you may need to restart the kernel to use updated packages.\n"
     ]
    }
   ],
   "source": [
    "pip install python-Levenshtein"
   ]
  },
  {
   "cell_type": "code",
   "execution_count": 14,
   "id": "65d81f0b-ca9a-495d-a712-0103106879ec",
   "metadata": {},
   "outputs": [],
   "source": [
    "from fuzzywuzzy import fuzz\n",
    "import re\n",
    "\n",
    "def process_text_features(df: pd.DataFrame) -> pd.DataFrame:\n",
    "    \n",
    "    df['employer_name'] = df['employer_name'].apply(lambda x: x.lower())\n",
    "    df['employer_name'] = df['employer_name'].apply(lambda x: x.strip())\n",
    "    df['employer_name'] = df['employer_name'].apply(lambda x: \"пятёрочка\" if fuzz.ratio('пятёрочка', x) > 80 else x)\n",
    "    df['employer_name'] = df['employer_name'].apply(lambda x: \"перекресток\" if fuzz.ratio('перекресток', x) > 80 else x)\n",
    "    \n",
    "    df['name'] = df['name'].apply(lambda x: x.lower())\n",
    "    df['name'] = df['name'].apply(lambda x: x.strip())\n",
    "    \n",
    "    df['area_name'] = df['area_name'].apply(lambda x: x.lower())\n",
    "    \n",
    "    df['description'].fillna('', inplace = True) \n",
    "    df['description'] = df['description'].apply(lambda x: re.sub(r'<[^>]+>', ' ', str(x)))\n",
    "    \n",
    "    return df"
   ]
  },
  {
   "cell_type": "code",
   "execution_count": 15,
   "id": "714c6ff5-3518-4c1c-9537-1104c3725394",
   "metadata": {},
   "outputs": [],
   "source": [
    "def vectorize_text_features(df: pd.DataFrame):\n",
    "    \n",
    "    vectorizer_employer = TfidfVectorizer(input='content', encoding='utf-8', decode_error='strict', strip_accents=None, lowercase=True, preprocessor=None, tokenizer=lambda x: x.split(), analyzer='word', stop_words=None, min_df=6, dtype=np.float32, max_features=64)\n",
    "    vectorizer_name = TfidfVectorizer(input='content', encoding='utf-8', decode_error='strict', strip_accents=None, lowercase=True, preprocessor=None, tokenizer=lambda x: x.split(), analyzer='word', stop_words=None, min_df=6, dtype=np.float32, max_features=64)\n",
    "    vectorizer_area_name = TfidfVectorizer(input='content', encoding='utf-8', decode_error='strict', strip_accents=None, lowercase=True, preprocessor=None, tokenizer=lambda x: x.split(), analyzer='word', stop_words=None, min_df=6, dtype=np.float32, max_features=64)\n",
    "    vectorizer_description = TfidfVectorizer(input='content', encoding='utf-8', decode_error='strict', strip_accents=None, lowercase=True, preprocessor=None, tokenizer=lambda x: x.split(), analyzer='word', stop_words=None, min_df=6, dtype=np.float32, max_features=64)\n",
    "    \n",
    "    return [vectorizer_employer, vectorizer_name, vectorizer_area_name, vectorizer_description]"
   ]
  },
  {
   "cell_type": "code",
   "execution_count": 16,
   "id": "6d8b7e17-9d28-4e04-8054-f39e6827d5c0",
   "metadata": {},
   "outputs": [
    {
     "name": "stdout",
     "output_type": "stream",
     "text": [
      "\u001b[33mDEPRECATION: Configuring installation scheme with distutils config files is deprecated and will no longer work in the near future. If you are using a Homebrew or Linuxbrew Python, please see discussion at https://github.com/Homebrew/homebrew-core/issues/76621\u001b[0m\u001b[33m\n",
      "\u001b[0mRequirement already satisfied: scikit-learn in /usr/local/lib/python3.9/site-packages (1.3.2)\n",
      "Requirement already satisfied: numpy<2.0,>=1.17.3 in /usr/local/lib/python3.9/site-packages (from scikit-learn) (1.26.3)\n",
      "Requirement already satisfied: scipy>=1.5.0 in /usr/local/lib/python3.9/site-packages (from scikit-learn) (1.11.3)\n",
      "Requirement already satisfied: joblib>=1.1.1 in /usr/local/lib/python3.9/site-packages (from scikit-learn) (1.3.2)\n",
      "Requirement already satisfied: threadpoolctl>=2.0.0 in /usr/local/lib/python3.9/site-packages (from scikit-learn) (3.2.0)\n",
      "\u001b[33mDEPRECATION: Configuring installation scheme with distutils config files is deprecated and will no longer work in the near future. If you are using a Homebrew or Linuxbrew Python, please see discussion at https://github.com/Homebrew/homebrew-core/issues/76621\u001b[0m\u001b[33m\n",
      "\u001b[0mNote: you may need to restart the kernel to use updated packages.\n"
     ]
    }
   ],
   "source": [
    "pip install scikit-learn"
   ]
  },
  {
   "cell_type": "code",
   "execution_count": 16,
   "id": "3f7e420d-44d3-4e07-9134-610924194459",
   "metadata": {},
   "outputs": [],
   "source": [
    "from sklearn.feature_extraction.text import TfidfVectorizer\n",
    "\n",
    "def convert_text_features(df: pd.DataFrame, vectorizers_list, is_train):\n",
    "    \n",
    "    vectorizer_name = vectorizers_list[0] \n",
    "    vectorizer_employer = vectorizers_list[1]\n",
    "    vectorizer_area_name = vectorizers_list[2]\n",
    "    vectorizer_description = vectorizers_list[3]\n",
    "    \n",
    "    if is_train:\n",
    "        df_name = vectorizer_name.fit_transform(df['name'])\n",
    "        df_employer = vectorizer_employer.fit_transform(df['employer_name'])\n",
    "        df_area_name = vectorizer_area_name.fit_transform(df['area_name'])\n",
    "        df_description = vectorizer_description.fit_transform(df['description'])\n",
    "    else:\n",
    "        df_name = vectorizer_name.transform(df['name'])\n",
    "        df_employer = vectorizer_employer.transform(df['employer_name'])\n",
    "        df_area_name = vectorizer_area_name.transform(df['area_name'])\n",
    "        df_description = vectorizer_description.transform(df['description'])\n",
    "    df = df.drop(columns=['name', 'employer_name', 'area_name', 'description'])\n",
    "    \n",
    "\n",
    "    names_pred_col = ['col_name_' + str(col) for col in vectorizer_name.get_feature_names_out()]\n",
    "    df = df.join(pd.DataFrame(df_name.toarray(), columns=names_pred_col, index=df.index))\n",
    "\n",
    "    employer_pred_col = ['col_employer_name_' + str(col) for col in vectorizer_employer.get_feature_names_out()]\n",
    "    df = df.join(pd.DataFrame(df_employer.toarray(), columns=employer_pred_col, index=df.index))\n",
    "\n",
    "    area_name_pred_col = ['col_area_name_' + str(col) for col in vectorizer_area_name.get_feature_names_out()]\n",
    "    df = df.join(pd.DataFrame(df_area_name.toarray(), columns=area_name_pred_col, index=df.index))\n",
    "\n",
    "    description_pred_col = ['col_description_' + str(col) for col in vectorizer_description.get_feature_names_out()]\n",
    "    df = df.join(pd.DataFrame(df_description.toarray(), columns=description_pred_col, index=df.index))\n",
    "    \n",
    "    return df"
   ]
  },
  {
   "cell_type": "code",
   "execution_count": 17,
   "id": "d61799d7-ff3a-4d93-9b5d-84ade82f9308",
   "metadata": {},
   "outputs": [],
   "source": [
    "origin_train = process_df(origin_train)"
   ]
  },
  {
   "cell_type": "code",
   "execution_count": 18,
   "id": "6ce9b58e-2455-4132-813d-f9e52dbad3c4",
   "metadata": {},
   "outputs": [
    {
     "data": {
      "text/plain": [
       "<bound method DataFrame.info of                                                     name  has_test  \\\n",
       "id                                                                   \n",
       "29083  Менеджер по продажам (брокер) элитной городско...     False   \n",
       "26052  Product marketing manager / Продуктовый маркет...     False   \n",
       "24055                        Программист Python (Middle)     False   \n",
       "4408           Продавец-кассир (Москва, Вернадского, 93)     False   \n",
       "16856                              Дизайнер-визуализатор     False   \n",
       "...                                                  ...       ...   \n",
       "16850  Директор департамента по административной и ка...     False   \n",
       "6265   Продавец-кассир (г Москва, ул Смольная, д 67 к 2)     False   \n",
       "11284                            Младший аналитик данных     False   \n",
       "860                        Копирайтер / контент менеджер     False   \n",
       "15795                                      Гейм-дизайнер     False   \n",
       "\n",
       "       response_letter_required    salary_from  salary_gross  published_at  \\\n",
       "id                                                                           \n",
       "29083                     False   64179.458874         False    80241296.0   \n",
       "26052                     False  120000.000000         False    77117745.0   \n",
       "24055                     False   64179.458874         False    85851652.0   \n",
       "4408                      False   33500.000000          True    74299388.0   \n",
       "16856                      True   30000.000000          True    40559385.0   \n",
       "...                         ...            ...           ...           ...   \n",
       "16850                     False  120000.000000         False    39275715.0   \n",
       "6265                      False   33500.000000          True    73092480.0   \n",
       "11284                     False   50000.000000         False    53624056.0   \n",
       "860                       False   60000.000000         False    67092473.0   \n",
       "15795                     False   30000.000000         False    43856340.0   \n",
       "\n",
       "                       employer_name  \\\n",
       "id                                     \n",
       "29083                Villagio Estate   \n",
       "26052                  CityAds Media   \n",
       "24055                       Лендсбэй   \n",
       "4408                       Пятёрочка   \n",
       "16856                  Моллдекор Рус   \n",
       "...                              ...   \n",
       "16850      Балтик Граунд Сервисес РУ   \n",
       "6265                       Пятёрочка   \n",
       "11284  Баскаков Дмитрий Владимирович   \n",
       "860                           Revain   \n",
       "15795                         Рэдвуд   \n",
       "\n",
       "                                             description area_name  salary_to  \n",
       "id                                                                             \n",
       "29083  <strong>Обязанности:</strong> <p>​​​​​- Прием ...    Москва   200000.0  \n",
       "26052  <p><strong>CityAds Media</strong> – один из ли...    Москва   170000.0  \n",
       "24055  <p>В перспективный международный Fintech старт...    Москва   120000.0  \n",
       "4408   <p><strong>Обязанности:</strong></p><ul><li>Об...    Москва    38000.0  \n",
       "16856  <p><strong>Компания MALL DECOR</strong> - лиде...    Москва    35000.0  \n",
       "...                                                  ...       ...        ...  \n",
       "16850  <p><em>Если вы ищете динамичную работу в расту...    Москва   150000.0  \n",
       "6265   <p><strong>Обязанности:</strong></p><ul><li>Об...    Москва    38000.0  \n",
       "11284  <p>Ищем перспективного и талантливого веб анал...    Москва    70000.0  \n",
       "860    <p><strong>Обязанности:</strong></p> <p><stron...    Москва   100000.0  \n",
       "15795  <p>Нам хотелось бы видеть в своей команде нера...   Барнаул    60000.0  \n",
       "\n",
       "[27934 rows x 10 columns]>"
      ]
     },
     "execution_count": 18,
     "metadata": {},
     "output_type": "execute_result"
    }
   ],
   "source": [
    "origin_train.info"
   ]
  },
  {
   "cell_type": "code",
   "execution_count": 19,
   "id": "36134e45-ea67-43da-b30d-96ad077b5dc0",
   "metadata": {},
   "outputs": [],
   "source": [
    "origin_train = process_text_features(origin_train)"
   ]
  },
  {
   "cell_type": "code",
   "execution_count": 20,
   "id": "37fcea8e-c7ce-43c5-88ac-cb18dcfdf46b",
   "metadata": {},
   "outputs": [
    {
     "data": {
      "text/plain": [
       "employer_name\n",
       "пятёрочка                    1596\n",
       "перекресток                   324\n",
       "билайн                        261\n",
       "jcat.ru                        70\n",
       "skyeng                         63\n",
       "                             ... \n",
       "торговая группа птк             1\n",
       "ltg consulting                  1\n",
       "exmail                          1\n",
       "албаков руслан борисович        1\n",
       "балтик граунд сервисес ру       1\n",
       "Name: count, Length: 13235, dtype: int64"
      ]
     },
     "execution_count": 20,
     "metadata": {},
     "output_type": "execute_result"
    }
   ],
   "source": [
    "origin_train['employer_name'].value_counts()"
   ]
  },
  {
   "cell_type": "code",
   "execution_count": 21,
   "id": "620d2bd0-c67c-4f79-90b8-075a1caff0d0",
   "metadata": {},
   "outputs": [
    {
     "data": {
      "text/plain": [
       "id\n",
       "29083     Обязанности:   ​​​​​- Прием и обработка перви...\n",
       "26052      CityAds Media  – один из лидеров российского...\n",
       "24055     В перспективный международный Fintech стартап...\n",
       "4408       Обязанности:    Обслуживание покупателей на ...\n",
       "16856      Компания MALL DECOR  - лидер праздничного оф...\n",
       "                               ...                        \n",
       "16850      Если вы ищете динамичную работу в растущей м...\n",
       "6265       Обязанности:    Обслуживание покупателей на ...\n",
       "11284     Ищем перспективного и талантливого веб аналит...\n",
       "860        Обязанности:     Для англоязычного сайта тре...\n",
       "15795     Нам хотелось бы видеть в своей команде неравн...\n",
       "Name: description, Length: 27934, dtype: object"
      ]
     },
     "execution_count": 21,
     "metadata": {},
     "output_type": "execute_result"
    }
   ],
   "source": [
    "origin_train['description']"
   ]
  },
  {
   "cell_type": "code",
   "execution_count": 22,
   "id": "25db4303-60ef-44f9-9777-94a0ed024456",
   "metadata": {},
   "outputs": [
    {
     "name": "stderr",
     "output_type": "stream",
     "text": [
      "/usr/local/lib/python3.9/site-packages/sklearn/feature_extraction/text.py:525: UserWarning: The parameter 'token_pattern' will not be used since 'tokenizer' is not None'\n",
      "  warnings.warn(\n"
     ]
    }
   ],
   "source": [
    "vectorizers_list = vectorize_text_features(origin_train)\n",
    "origin_train = convert_text_features(origin_train, vectorizers_list, True)"
   ]
  },
  {
   "cell_type": "code",
   "execution_count": 23,
   "id": "f8d8d41e-f5ea-4b5f-9c5f-90d94539d687",
   "metadata": {},
   "outputs": [],
   "source": [
    "from sklearn.model_selection import train_test_split\n",
    "\n",
    "X_train, X_test, y_train, y_test = train_test_split(origin_train.drop(columns='salary_to'), origin_train.salary_to, test_size=0.3, random_state=9876)"
   ]
  },
  {
   "cell_type": "code",
   "execution_count": 25,
   "id": "c356db22-31d3-4eb2-b8f4-cfdc7fbd181f",
   "metadata": {},
   "outputs": [
    {
     "name": "stdout",
     "output_type": "stream",
     "text": [
      "\u001b[33mDEPRECATION: Configuring installation scheme with distutils config files is deprecated and will no longer work in the near future. If you are using a Homebrew or Linuxbrew Python, please see discussion at https://github.com/Homebrew/homebrew-core/issues/76621\u001b[0m\u001b[33m\n",
      "\u001b[0mRequirement already satisfied: catboost in /usr/local/lib/python3.9/site-packages (1.2.2)\n",
      "Requirement already satisfied: graphviz in /usr/local/lib/python3.9/site-packages (from catboost) (0.20.1)\n",
      "Requirement already satisfied: matplotlib in /usr/local/lib/python3.9/site-packages (from catboost) (3.8.0)\n",
      "Requirement already satisfied: numpy>=1.16.0 in /usr/local/lib/python3.9/site-packages (from catboost) (1.26.3)\n",
      "Requirement already satisfied: pandas>=0.24 in /usr/local/lib/python3.9/site-packages (from catboost) (2.1.4)\n",
      "Requirement already satisfied: scipy in /usr/local/lib/python3.9/site-packages (from catboost) (1.11.3)\n",
      "Requirement already satisfied: plotly in /usr/local/lib/python3.9/site-packages (from catboost) (5.18.0)\n",
      "Requirement already satisfied: six in /usr/local/lib/python3.9/site-packages (from catboost) (1.16.0)\n",
      "Requirement already satisfied: python-dateutil>=2.8.2 in /usr/local/lib/python3.9/site-packages (from pandas>=0.24->catboost) (2.8.2)\n",
      "Requirement already satisfied: pytz>=2020.1 in /usr/local/lib/python3.9/site-packages (from pandas>=0.24->catboost) (2023.3.post1)\n",
      "Requirement already satisfied: tzdata>=2022.1 in /usr/local/lib/python3.9/site-packages (from pandas>=0.24->catboost) (2023.3)\n",
      "Requirement already satisfied: contourpy>=1.0.1 in /usr/local/lib/python3.9/site-packages (from matplotlib->catboost) (1.1.1)\n",
      "Requirement already satisfied: cycler>=0.10 in /usr/local/lib/python3.9/site-packages (from matplotlib->catboost) (0.12.0)\n",
      "Requirement already satisfied: fonttools>=4.22.0 in /usr/local/lib/python3.9/site-packages (from matplotlib->catboost) (4.43.0)\n",
      "Requirement already satisfied: kiwisolver>=1.0.1 in /usr/local/lib/python3.9/site-packages (from matplotlib->catboost) (1.4.5)\n",
      "Requirement already satisfied: packaging>=20.0 in /usr/local/lib/python3.9/site-packages (from matplotlib->catboost) (23.1)\n",
      "Requirement already satisfied: pillow>=6.2.0 in /usr/local/lib/python3.9/site-packages (from matplotlib->catboost) (10.0.1)\n",
      "Requirement already satisfied: pyparsing>=2.3.1 in /usr/local/lib/python3.9/site-packages (from matplotlib->catboost) (3.1.1)\n",
      "Requirement already satisfied: importlib-resources>=3.2.0 in /usr/local/lib/python3.9/site-packages (from matplotlib->catboost) (6.1.0)\n",
      "Requirement already satisfied: tenacity>=6.2.0 in /usr/local/lib/python3.9/site-packages (from plotly->catboost) (8.2.3)\n",
      "Requirement already satisfied: zipp>=3.1.0 in /usr/local/lib/python3.9/site-packages (from importlib-resources>=3.2.0->matplotlib->catboost) (3.10.0)\n",
      "\u001b[33mDEPRECATION: Configuring installation scheme with distutils config files is deprecated and will no longer work in the near future. If you are using a Homebrew or Linuxbrew Python, please see discussion at https://github.com/Homebrew/homebrew-core/issues/76621\u001b[0m\u001b[33m\n",
      "\u001b[0mNote: you may need to restart the kernel to use updated packages.\n"
     ]
    }
   ],
   "source": [
    "pip install catboost"
   ]
  },
  {
   "cell_type": "code",
   "execution_count": 24,
   "id": "3a827b52-636e-49ed-97e2-22895af8454e",
   "metadata": {},
   "outputs": [
    {
     "name": "stdout",
     "output_type": "stream",
     "text": [
      "0:\tlearn: 54.4653041\ttest: 54.2221662\tbest: 54.2221662 (0)\ttotal: 85.4ms\tremaining: 21m 20s\n",
      "300:\tlearn: 25.5426038\ttest: 25.6508437\tbest: 25.6508437 (300)\ttotal: 6.08s\tremaining: 4m 56s\n",
      "600:\tlearn: 23.6366417\ttest: 24.4958122\tbest: 24.4958122 (600)\ttotal: 12s\tremaining: 4m 46s\n",
      "900:\tlearn: 22.3228341\ttest: 23.9567522\tbest: 23.9566178 (899)\ttotal: 17.9s\tremaining: 4m 39s\n",
      "1200:\tlearn: 21.1696795\ttest: 23.5228750\tbest: 23.5226235 (1199)\ttotal: 23.8s\tremaining: 4m 33s\n",
      "1500:\tlearn: 20.0255909\ttest: 23.1457463\tbest: 23.1457463 (1500)\ttotal: 29.7s\tremaining: 4m 27s\n",
      "1800:\tlearn: 19.1319241\ttest: 22.8971009\tbest: 22.8971009 (1800)\ttotal: 35.7s\tremaining: 4m 21s\n",
      "2100:\tlearn: 18.2932948\ttest: 22.7091360\tbest: 22.7088001 (2099)\ttotal: 41.6s\tremaining: 4m 15s\n",
      "2400:\tlearn: 17.5519011\ttest: 22.5602038\tbest: 22.5584995 (2398)\ttotal: 47.5s\tremaining: 4m 9s\n",
      "2700:\tlearn: 16.9149965\ttest: 22.4377511\tbest: 22.4363797 (2698)\ttotal: 53.4s\tremaining: 4m 3s\n",
      "3000:\tlearn: 16.3445601\ttest: 22.3359660\tbest: 22.3359660 (3000)\ttotal: 59.5s\tremaining: 3m 57s\n",
      "3300:\tlearn: 15.7868619\ttest: 22.2295392\tbest: 22.2295392 (3300)\ttotal: 1m 5s\tremaining: 3m 52s\n",
      "3600:\tlearn: 15.3089115\ttest: 22.1452249\tbest: 22.1452249 (3600)\ttotal: 1m 11s\tremaining: 3m 45s\n",
      "3900:\tlearn: 14.7981826\ttest: 22.0783708\tbest: 22.0768628 (3881)\ttotal: 1m 17s\tremaining: 3m 40s\n",
      "4200:\tlearn: 14.3163215\ttest: 22.0014502\tbest: 22.0014502 (4200)\ttotal: 1m 23s\tremaining: 3m 34s\n",
      "4500:\tlearn: 13.8443342\ttest: 21.9501775\tbest: 21.9478238 (4489)\ttotal: 1m 29s\tremaining: 3m 28s\n",
      "4800:\tlearn: 13.4540520\ttest: 21.8773443\tbest: 21.8772819 (4797)\ttotal: 1m 35s\tremaining: 3m 22s\n",
      "5100:\tlearn: 13.0554906\ttest: 21.8196433\tbest: 21.8196433 (5100)\ttotal: 1m 41s\tremaining: 3m 16s\n",
      "5400:\tlearn: 12.6517280\ttest: 21.7677681\tbest: 21.7661109 (5397)\ttotal: 1m 47s\tremaining: 3m 10s\n",
      "5700:\tlearn: 12.3070772\ttest: 21.7265800\tbest: 21.7246249 (5696)\ttotal: 1m 52s\tremaining: 3m 4s\n",
      "6000:\tlearn: 11.9686238\ttest: 21.6921747\tbest: 21.6896168 (5980)\ttotal: 1m 58s\tremaining: 2m 58s\n",
      "6300:\tlearn: 11.6468346\ttest: 21.6790773\tbest: 21.6775619 (6280)\ttotal: 2m 4s\tremaining: 2m 52s\n",
      "6600:\tlearn: 11.3574013\ttest: 21.6498743\tbest: 21.6487021 (6468)\ttotal: 2m 10s\tremaining: 2m 46s\n",
      "6900:\tlearn: 11.0572544\ttest: 21.6263394\tbest: 21.6217506 (6828)\ttotal: 2m 17s\tremaining: 2m 40s\n",
      "7200:\tlearn: 10.7982403\ttest: 21.6032511\tbest: 21.6029992 (7199)\ttotal: 2m 23s\tremaining: 2m 35s\n",
      "7500:\tlearn: 10.5443969\ttest: 21.5773736\tbest: 21.5761027 (7476)\ttotal: 2m 29s\tremaining: 2m 29s\n",
      "7800:\tlearn: 10.2991601\ttest: 21.5591711\tbest: 21.5589209 (7799)\ttotal: 2m 35s\tremaining: 2m 23s\n",
      "8100:\tlearn: 10.0600576\ttest: 21.5272423\tbest: 21.5272423 (8100)\ttotal: 2m 42s\tremaining: 2m 17s\n",
      "8400:\tlearn: 9.8141693\ttest: 21.5029545\tbest: 21.5029545 (8400)\ttotal: 2m 48s\tremaining: 2m 12s\n",
      "8700:\tlearn: 9.6165112\ttest: 21.4935078\tbest: 21.4930179 (8694)\ttotal: 2m 54s\tremaining: 2m 6s\n",
      "9000:\tlearn: 9.4093529\ttest: 21.4842069\tbest: 21.4839917 (8988)\ttotal: 3m\tremaining: 2m\n",
      "9300:\tlearn: 9.2257807\ttest: 21.4695731\tbest: 21.4695731 (9300)\ttotal: 3m 6s\tremaining: 1m 54s\n",
      "9600:\tlearn: 9.0400970\ttest: 21.4617947\tbest: 21.4572070 (9549)\ttotal: 3m 12s\tremaining: 1m 48s\n",
      "9900:\tlearn: 8.8633501\ttest: 21.4635126\tbest: 21.4572070 (9549)\ttotal: 3m 18s\tremaining: 1m 42s\n",
      "10200:\tlearn: 8.7127431\ttest: 21.4520838\tbest: 21.4520838 (10200)\ttotal: 3m 24s\tremaining: 1m 36s\n",
      "10500:\tlearn: 8.5856976\ttest: 21.4432585\tbest: 21.4375481 (10442)\ttotal: 3m 30s\tremaining: 1m 30s\n",
      "10800:\tlearn: 8.4522841\ttest: 21.4397173\tbest: 21.4306863 (10717)\ttotal: 3m 36s\tremaining: 1m 24s\n",
      "11100:\tlearn: 8.3361461\ttest: 21.4362640\tbest: 21.4306863 (10717)\ttotal: 3m 42s\tremaining: 1m 18s\n",
      "11400:\tlearn: 8.1834624\ttest: 21.4397166\tbest: 21.4289065 (11266)\ttotal: 3m 48s\tremaining: 1m 12s\n",
      "11700:\tlearn: 8.0148698\ttest: 21.4390396\tbest: 21.4289065 (11266)\ttotal: 3m 54s\tremaining: 1m 6s\n",
      "12000:\tlearn: 7.8859821\ttest: 21.4620640\tbest: 21.4289065 (11266)\ttotal: 4m\tremaining: 1m\n",
      "12300:\tlearn: 7.7817745\ttest: 21.4612605\tbest: 21.4289065 (11266)\ttotal: 4m 6s\tremaining: 54.1s\n",
      "12600:\tlearn: 7.6883521\ttest: 21.4676059\tbest: 21.4289065 (11266)\ttotal: 4m 12s\tremaining: 48.1s\n",
      "12900:\tlearn: 7.5632341\ttest: 21.4713609\tbest: 21.4289065 (11266)\ttotal: 4m 18s\tremaining: 42.1s\n",
      "13200:\tlearn: 7.4598044\ttest: 21.4761435\tbest: 21.4289065 (11266)\ttotal: 4m 24s\tremaining: 36.1s\n",
      "13500:\tlearn: 7.3258631\ttest: 21.4792141\tbest: 21.4289065 (11266)\ttotal: 4m 30s\tremaining: 30.1s\n",
      "13800:\tlearn: 7.2258055\ttest: 21.4727885\tbest: 21.4289065 (11266)\ttotal: 4m 36s\tremaining: 24s\n",
      "14100:\tlearn: 7.1419491\ttest: 21.4611917\tbest: 21.4289065 (11266)\ttotal: 4m 42s\tremaining: 18s\n",
      "14400:\tlearn: 7.0591253\ttest: 21.4648501\tbest: 21.4289065 (11266)\ttotal: 4m 48s\tremaining: 12s\n",
      "14700:\tlearn: 6.9486029\ttest: 21.4603708\tbest: 21.4289065 (11266)\ttotal: 4m 54s\tremaining: 6s\n",
      "14999:\tlearn: 6.8438149\ttest: 21.4792519\tbest: 21.4289065 (11266)\ttotal: 5m\tremaining: 0us\n",
      "\n",
      "bestTest = 21.4289065\n",
      "bestIteration = 11266\n",
      "\n",
      "Shrink model to first 11267 iterations.\n"
     ]
    },
    {
     "data": {
      "text/plain": [
       "<catboost.core.CatBoostRegressor at 0x12ed03490>"
      ]
     },
     "execution_count": 24,
     "metadata": {},
     "output_type": "execute_result"
    }
   ],
   "source": [
    "from catboost import CatBoostRegressor\n",
    "\n",
    "model = CatBoostRegressor(loss_function='MAE', eval_metric='SMAPE', depth=8, iterations = 15000, random_state=9876, rsm=0.1)\n",
    "\n",
    "model.fit(X_train, y_train, verbose=300, eval_set=(X_test, y_test))"
   ]
  },
  {
   "cell_type": "code",
   "execution_count": 25,
   "id": "f4176c5d-f876-4d97-9a04-fd988f2686df",
   "metadata": {},
   "outputs": [
    {
     "name": "stdout",
     "output_type": "stream",
     "text": [
      "smape: 21.428906498959293\n"
     ]
    }
   ],
   "source": [
    "predicted = model.predict(X_test)\n",
    "\n",
    "print(f'smape: {smape(y_test, predicted)}')"
   ]
  },
  {
   "cell_type": "code",
   "execution_count": 26,
   "id": "43d4daad-aea1-4722-9aa0-9f9d245bd041",
   "metadata": {},
   "outputs": [],
   "source": [
    "test = pd.read_csv('X_test.csv')\n",
    "test['published_at'] = pd.to_datetime(test['published_at'])\n",
    "test['created_at'] = pd.to_datetime(test['created_at'])\n",
    "test = test.set_index('id')"
   ]
  },
  {
   "cell_type": "code",
   "execution_count": 27,
   "id": "670ae4d4-629a-41a0-b0a3-5ee70f6a6919",
   "metadata": {},
   "outputs": [],
   "source": [
    "test = process_df(test)"
   ]
  },
  {
   "cell_type": "code",
   "execution_count": 28,
   "id": "5bbd6b75-3d17-4ac2-af5f-aa8a56a43bb2",
   "metadata": {},
   "outputs": [],
   "source": [
    "test = process_text_features(test)"
   ]
  },
  {
   "cell_type": "code",
   "execution_count": 29,
   "id": "1646cd4c-b439-4833-a50e-cdc5a0566ea5",
   "metadata": {},
   "outputs": [],
   "source": [
    "test = convert_text_features(test, vectorizers_list, False)"
   ]
  },
  {
   "cell_type": "code",
   "execution_count": 30,
   "id": "861bf182-2911-435e-9c05-c3366564a222",
   "metadata": {},
   "outputs": [],
   "source": [
    "predicted1 = model.predict(test)\n",
    "\n",
    "output = pd.DataFrame({'id': test.index, 'salary_to': predicted1})\n",
    "output.to_csv('random_result.csv', index=False)"
   ]
  },
  {
   "cell_type": "code",
   "execution_count": null,
   "id": "d1114eaf-8081-4f94-8bec-f339b75d45c1",
   "metadata": {},
   "outputs": [],
   "source": []
  }
 ],
 "metadata": {
  "kernelspec": {
   "display_name": "Python 3 (ipykernel)",
   "language": "python",
   "name": "python3"
  },
  "language_info": {
   "codemirror_mode": {
    "name": "ipython",
    "version": 3
   },
   "file_extension": ".py",
   "mimetype": "text/x-python",
   "name": "python",
   "nbconvert_exporter": "python",
   "pygments_lexer": "ipython3",
   "version": "3.9.18"
  }
 },
 "nbformat": 4,
 "nbformat_minor": 5
}
